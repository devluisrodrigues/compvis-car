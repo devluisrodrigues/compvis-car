{
 "cells": [
  {
   "cell_type": "markdown",
   "metadata": {},
   "source": [
    "## Código para testar o modelo de YOLO"
   ]
  },
  {
   "cell_type": "markdown",
   "metadata": {
    "vscode": {
     "languageId": "plaintext"
    }
   },
   "source": [
    "---"
   ]
  },
  {
   "cell_type": "code",
   "execution_count": 1,
   "metadata": {},
   "outputs": [
    {
     "name": "stderr",
     "output_type": "stream",
     "text": [
      "/home/joao/Documents/VisComp/compvis-car/.venv/lib/python3.12/site-packages/paddle/utils/cpp_extension/extension_utils.py:711: UserWarning: No ccache found. Please be aware that recompiling all source files may be required. You can download and install ccache from: https://github.com/ccache/ccache/blob/master/doc/INSTALL.md\n",
      "  warnings.warn(warning_message)\n"
     ]
    }
   ],
   "source": [
    "from ultralytics import YOLO\n",
    "import matplotlib.pyplot as plt\n",
    "import cv2\n",
    "from paddleocr import PaddleOCR\n",
    "import os\n",
    "import re\n",
    "import requests"
   ]
  },
  {
   "cell_type": "markdown",
   "metadata": {},
   "source": [
    "### Identificação de placas de carros:"
   ]
  },
  {
   "cell_type": "code",
   "execution_count": 2,
   "metadata": {},
   "outputs": [],
   "source": [
    "def classify_image(image_path):    \n",
    "    model = YOLO('last.pt')  \n",
    "    results = model(image_path)\n",
    "    \n",
    "    # Display results\n",
    "    for result in results:\n",
    "        img_rgb = cv2.cvtColor(result.plot(show=False), cv2.COLOR_BGR2RGB)\n",
    "        plt.figure(figsize=(10, 10))\n",
    "        plt.imshow(img_rgb)\n",
    "        plt.axis('off')\n",
    "        plt.show()\n",
    "\n",
    "def classify_and_crop(image_path):\n",
    "    # Load model\n",
    "    model = YOLO('last.pt')\n",
    "    \n",
    "    # Run inference\n",
    "    results = model(image_path)\n",
    "    \n",
    "    # Read the original image\n",
    "    original_image = cv2.imread(image_path)\n",
    "    imgnames = []\n",
    "\n",
    "\n",
    "    # Iterate over results\n",
    "    for i, result in enumerate(results):\n",
    "        boxes = result.boxes.xyxy.cpu().numpy()  # Get bounding boxes in (x1, y1, x2, y2) format\n",
    "\n",
    "        for j, (x1, y1, x2, y2) in enumerate(boxes):\n",
    "            # Convert coordinates to integers\n",
    "            x1, y1, x2, y2 = map(int, [x1, y1, x2, y2])\n",
    "\n",
    "            # Crop the image\n",
    "            cropped = original_image[y1:y2, x1:x2]\n",
    "\n",
    "            # Convert BGR to RGB for displaying\n",
    "            cropped_rgb = cv2.cvtColor(cropped, cv2.COLOR_BGR2RGB)\n",
    "            # Save the cropped image\n",
    "            output_filename = f'cropped_{i}_{j}.png'\n",
    "            imgnames.append(output_filename)\n",
    "            cv2.imwrite(output_filename, cropped)\n",
    "\n",
    "            # Show the cropped region\n",
    "            plt.figure(figsize=(4, 4))\n",
    "            plt.imshow(cropped_rgb)\n",
    "            plt.axis('off')\n",
    "            plt.title(f'Cropped #{i}-{j}')\n",
    "            plt.show()\n",
    "    return imgnames\n",
    "\n",
    "def classify_and_save(image_path):\n",
    "    model = YOLO('last.pt')\n",
    "    results = model(image_path)\n",
    "    \n",
    "    # Read the original image\n",
    "    original_image = cv2.imread(image_path)\n",
    "    imgnames = []\n",
    "    \n",
    "    # Iterate over results\n",
    "    for i, result in enumerate(results):\n",
    "        boxes = result.boxes.xyxy.cpu().numpy()  # Get bounding boxes in (x1, y1, x2, y2) format\n",
    "\n",
    "        for j, (x1, y1, x2, y2) in enumerate(boxes):\n",
    "            # Convert coordinates to integers\n",
    "            x1, y1, x2, y2 = map(int, [x1, y1, x2, y2])\n",
    "\n",
    "            # Crop the image\n",
    "            cropped = original_image[y1:y2, x1:x2]\n",
    "\n",
    "            # Convert BGR to RGB for displaying\n",
    "            cropped_rgb = cv2.cvtColor(cropped, cv2.COLOR_BGR2RGB)\n",
    "            # Save the cropped image\n",
    "            output_filename = f'plates/cropped_{i}_{j}.png'\n",
    "            imgnames.append(output_filename)\n",
    "            cv2.imwrite(output_filename, cropped)\n",
    "            "
   ]
  },
  {
   "cell_type": "markdown",
   "metadata": {},
   "source": [
    "### Lendo o texto das placas"
   ]
  },
  {
   "cell_type": "code",
   "execution_count": null,
   "metadata": {},
   "outputs": [],
   "source": [
    "import cv2\n",
    "import numpy as np\n",
    "import re\n",
    "from paddleocr import PaddleOCR\n",
    "\n",
    "def change_char_in_position(word, position):\n",
    "    if position < len(word):\n",
    "        if word[position].isdigit():\n",
    "            digit = word[position]\n",
    "            if digit == '8':\n",
    "                word = word[:position] + 'B' + word[position+1:]\n",
    "            elif digit == '1':\n",
    "                word = word[:position] + 'I' + word[position+1:]\n",
    "    return word\n",
    "\n",
    "def detect_blue_strip(image_path):\n",
    "    image = cv2.imread(image_path)\n",
    "    if image is None:\n",
    "        return False\n",
    "\n",
    "    # Recorta a parte de cima da imagem (20% superior)\n",
    "    height = image.shape[0]\n",
    "    top_part = image[0:int(height * 0.2), :]\n",
    "\n",
    "    # Converte para HSV para facilitar a detecção de azul\n",
    "    hsv = cv2.cvtColor(top_part, cv2.COLOR_BGR2HSV)\n",
    "    lower_blue = np.array([100, 50, 50])\n",
    "    upper_blue = np.array([140, 255, 255])\n",
    "    mask = cv2.inRange(hsv, lower_blue, upper_blue)\n",
    "\n",
    "    # Calcula a proporção de pixels azuis\n",
    "    blue_ratio = cv2.countNonZero(mask) / (top_part.shape[0] * top_part.shape[1])\n",
    "    return blue_ratio > 0.05  # Se mais de 5% for azul, consideramos placa nova\n",
    "\n",
    "ocr = PaddleOCR(use_angle_cls=True, lang='en', show_log=False)\n",
    "\n",
    "def extract_plate_from_image(image_path):\n",
    "    is_new_plate = detect_blue_strip(image_path)\n",
    "    result = ocr.ocr(image_path, cls=True)\n",
    "    \n",
    "    if not result or result[0] == None:\n",
    "        print(\"No text detected.\")\n",
    "        return None    \n",
    "    \n",
    "    detected_words = []\n",
    "    for line in result:\n",
    "        for word_info in line:\n",
    "            if word_info[1][0].lower() == \"brasil\":\n",
    "                is_new_plate = True  # reforça com OCR, mas a imagem é mais confiável\n",
    "            else:\n",
    "                detected_words.append((word_info[1][0], word_info[1][1]))\n",
    "                \n",
    "    print(f\"Palavras detectadas: {detected_words}\")\n",
    "    print(f\"É nova placa? {is_new_plate}\")    \n",
    "    \n",
    "    for word_tuple in detected_words:\n",
    "        word = word_tuple[0].replace(\"-\", \"\")\n",
    "        confidence = word_tuple[1]                \n",
    "            \n",
    "        if (re.fullmatch(r'[A-Z]{3}\\d{4}', word) and not is_new_plate) or re.fullmatch(r'[A-Z]{3}\\d[A-Z]\\d{2}', word):\n",
    "            return word\n",
    "        \n",
    "        else:\n",
    "            if word[0].isdigit():\n",
    "                word = change_char_in_position(word, 0)\n",
    "            if word[1].isdigit():\n",
    "                word = change_char_in_position(word, 1)\n",
    "            if word[2].isdigit():\n",
    "                word = change_char_in_position(word, 2)\n",
    "            if is_new_plate and word[4].isdigit():\n",
    "                word = change_char_in_position(word, 4)\n",
    "                            \n",
    "            if re.match(r'^[A-Z]{3}\\d{4}$', word) or re.match(r'^[A-Z]{3}\\d{1}[A-Z]\\d{2}$', word):\n",
    "                return word\n",
    "            \n",
    "        \n",
    "            \n",
    "    return None\n"
   ]
  },
  {
   "cell_type": "markdown",
   "metadata": {},
   "source": [
    "### Separando Placas:\n"
   ]
  },
  {
   "cell_type": "code",
   "execution_count": 4,
   "metadata": {},
   "outputs": [
    {
     "name": "stdout",
     "output_type": "stream",
     "text": [
      "Processing imgs/52.png\n",
      "\n",
      "image 1/1 /home/joao/Documents/VisComp/compvis-car/imgs/52.png: 384x640 2 License_Plates, 69.1ms\n",
      "Speed: 3.0ms preprocess, 69.1ms inference, 212.9ms postprocess per image at shape (1, 3, 384, 640)\n"
     ]
    }
   ],
   "source": [
    "imgs_path = \"imgs/\"\n",
    "if not os.path.exists(imgs_path):\n",
    "    os.makedirs(imgs_path)\n",
    "    \n",
    "plates_path = \"plates/\"\n",
    "if not os.path.exists(plates_path):\n",
    "    os.makedirs(plates_path)\n",
    "    \n",
    "# get the images from imgs\n",
    "imgs = os.listdir(imgs_path)\n",
    "for img in imgs:\n",
    "    img_path = os.path.join(imgs_path, img)\n",
    "    print(f\"Processing {img_path}\")\n",
    "    \n",
    "    # Classify and crop the image\n",
    "    classify_and_save(img_path)\n",
    "    break\n"
   ]
  },
  {
   "cell_type": "markdown",
   "metadata": {},
   "source": [
    "### Testando com imagens reais"
   ]
  },
  {
   "cell_type": "code",
   "execution_count": 5,
   "metadata": {},
   "outputs": [
    {
     "name": "stdout",
     "output_type": "stream",
     "text": [
      "\n",
      "image 1/1 /home/joao/Documents/VisComp/compvis-car/imgs/21.png: 384x640 3 License_Plates, 62.4ms\n",
      "Speed: 1.7ms preprocess, 62.4ms inference, 0.8ms postprocess per image at shape (1, 3, 384, 640)\n"
     ]
    },
    {
     "data": {
      "image/png": "[encoded data removed]",
      "text/plain": [
       "<Figure size 400x400 with 1 Axes>"
      ]
     },
     "metadata": {},
     "output_type": "display_data"
    },
    {
     "data": {
      "image/png": "[encoded data removed]",
      "text/plain": [
       "<Figure size 400x400 with 1 Axes>"
      ]
     },
     "metadata": {},
     "output_type": "display_data"
    },
    {
     "data": {
      "image/png": "[encoded data removed]",
      "text/plain": [
       "<Figure size 400x400 with 1 Axes>"
      ]
     },
     "metadata": {},
     "output_type": "display_data"
    }
   ],
   "source": [
    "image_path = 'imgs/21.png'\n",
    "imgs = classify_and_crop(image_path)"
   ]
  },
  {
   "cell_type": "code",
   "execution_count": 8,
   "metadata": {},
   "outputs": [
    {
     "name": "stdout",
     "output_type": "stream",
     "text": [
      "Processing cropped_0_0.png\n",
      "Palavras detectadas: [('FWR', 0.9598544239997864), ('5886', 0.9001538753509521)]\n",
      "É nova placa? True\n"
     ]
    },
    {
     "ename": "IndexError",
     "evalue": "string index out of range",
     "output_type": "error",
     "traceback": [
      "\u001b[31m---------------------------------------------------------------------------\u001b[39m",
      "\u001b[31mIndexError\u001b[39m                                Traceback (most recent call last)",
      "\u001b[36mCell\u001b[39m\u001b[36m \u001b[39m\u001b[32mIn[8]\u001b[39m\u001b[32m, line 3\u001b[39m\n\u001b[32m      1\u001b[39m \u001b[38;5;28;01mfor\u001b[39;00m img \u001b[38;5;129;01min\u001b[39;00m imgs:\n\u001b[32m      2\u001b[39m     \u001b[38;5;28mprint\u001b[39m(\u001b[33mf\u001b[39m\u001b[33m\"\u001b[39m\u001b[33mProcessing \u001b[39m\u001b[38;5;132;01m{\u001b[39;00mimg\u001b[38;5;132;01m}\u001b[39;00m\u001b[33m\"\u001b[39m)\n\u001b[32m----> \u001b[39m\u001b[32m3\u001b[39m     plate = \u001b[43mextract_plate_from_image\u001b[49m\u001b[43m(\u001b[49m\u001b[43mimg\u001b[49m\u001b[43m)\u001b[49m   \n\u001b[32m      4\u001b[39m     \u001b[38;5;28;01mif\u001b[39;00m plate:\n\u001b[32m      5\u001b[39m         \u001b[38;5;28mprint\u001b[39m(\u001b[33mf\u001b[39m\u001b[33m\"\u001b[39m\u001b[33mDetected plate: \u001b[39m\u001b[38;5;132;01m{\u001b[39;00mplate\u001b[38;5;132;01m}\u001b[39;00m\u001b[33m\"\u001b[39m)\n",
      "\u001b[36mCell\u001b[39m\u001b[36m \u001b[39m\u001b[32mIn[3]\u001b[39m\u001b[32m, line 70\u001b[39m, in \u001b[36mextract_plate_from_image\u001b[39m\u001b[34m(image_path)\u001b[39m\n\u001b[32m     68\u001b[39m \u001b[38;5;28;01mif\u001b[39;00m word[\u001b[32m2\u001b[39m].isdigit():\n\u001b[32m     69\u001b[39m     word = change_char_in_position(word, \u001b[32m2\u001b[39m)\n\u001b[32m---> \u001b[39m\u001b[32m70\u001b[39m \u001b[38;5;28;01mif\u001b[39;00m is_new_plate \u001b[38;5;129;01mand\u001b[39;00m \u001b[43mword\u001b[49m\u001b[43m[\u001b[49m\u001b[32;43m4\u001b[39;49m\u001b[43m]\u001b[49m.isdigit():\n\u001b[32m     71\u001b[39m     word = change_char_in_position(word, \u001b[32m4\u001b[39m)\n\u001b[32m     73\u001b[39m \u001b[38;5;28;01mif\u001b[39;00m re.match(\u001b[33mr\u001b[39m\u001b[33m'\u001b[39m\u001b[33m^[A-Z]\u001b[39m\u001b[38;5;132;01m{3}\u001b[39;00m\u001b[33m\\\u001b[39m\u001b[33md\u001b[39m\u001b[38;5;132;01m{4}\u001b[39;00m\u001b[33m$\u001b[39m\u001b[33m'\u001b[39m, word) \u001b[38;5;129;01mor\u001b[39;00m re.match(\u001b[33mr\u001b[39m\u001b[33m'\u001b[39m\u001b[33m^[A-Z]\u001b[39m\u001b[38;5;132;01m{3}\u001b[39;00m\u001b[33m\\\u001b[39m\u001b[33md\u001b[39m\u001b[38;5;132;01m{1}\u001b[39;00m\u001b[33m[A-Z]\u001b[39m\u001b[33m\\\u001b[39m\u001b[33md\u001b[39m\u001b[38;5;132;01m{2}\u001b[39;00m\u001b[33m$\u001b[39m\u001b[33m'\u001b[39m, word):\n",
      "\u001b[31mIndexError\u001b[39m: string index out of range"
     ]
    }
   ],
   "source": [
    "for img in imgs:\n",
    "    print(f\"Processing {img}\")\n",
    "    plate = extract_plate_from_image(img)   \n",
    "    if plate:\n",
    "        print(f\"Detected plate: {plate}\")\n",
    "    break"
   ]
  },
  {
   "cell_type": "code",
   "execution_count": 6,
   "metadata": {},
   "outputs": [
    {
     "name": "stdout",
     "output_type": "stream",
     "text": [
      "Processing image: cropped_0_0.png\n",
      "Palavras detectadas: [('FWR', 0.9598544239997864), ('5886', 0.9001538753509521)]\n",
      "É nova placa? True\n"
     ]
    },
    {
     "ename": "IndexError",
     "evalue": "string index out of range",
     "output_type": "error",
     "traceback": [
      "\u001b[31m---------------------------------------------------------------------------\u001b[39m",
      "\u001b[31mIndexError\u001b[39m                                Traceback (most recent call last)",
      "\u001b[36mCell\u001b[39m\u001b[36m \u001b[39m\u001b[32mIn[6]\u001b[39m\u001b[32m, line 4\u001b[39m\n\u001b[32m      2\u001b[39m \u001b[38;5;28;01mfor\u001b[39;00m img \u001b[38;5;129;01min\u001b[39;00m imgs:\n\u001b[32m      3\u001b[39m     \u001b[38;5;28mprint\u001b[39m(\u001b[33mf\u001b[39m\u001b[33m\"\u001b[39m\u001b[33mProcessing image: \u001b[39m\u001b[38;5;132;01m{\u001b[39;00mimg\u001b[38;5;132;01m}\u001b[39;00m\u001b[33m\"\u001b[39m)\n\u001b[32m----> \u001b[39m\u001b[32m4\u001b[39m     plate = \u001b[43mextract_plate_from_image\u001b[49m\u001b[43m(\u001b[49m\u001b[43mimg\u001b[49m\u001b[43m)\u001b[49m\n\u001b[32m      5\u001b[39m     \u001b[38;5;28mprint\u001b[39m(\u001b[33mf\u001b[39m\u001b[33m\"\u001b[39m\u001b[33mPlate detected: \u001b[39m\u001b[38;5;132;01m{\u001b[39;00mplate\u001b[38;5;132;01m}\u001b[39;00m\u001b[33m\"\u001b[39m)\n\u001b[32m      6\u001b[39m     \u001b[38;5;28;01mif\u001b[39;00m plate:\n",
      "\u001b[36mCell\u001b[39m\u001b[36m \u001b[39m\u001b[32mIn[3]\u001b[39m\u001b[32m, line 70\u001b[39m, in \u001b[36mextract_plate_from_image\u001b[39m\u001b[34m(image_path)\u001b[39m\n\u001b[32m     68\u001b[39m \u001b[38;5;28;01mif\u001b[39;00m word[\u001b[32m2\u001b[39m].isdigit():\n\u001b[32m     69\u001b[39m     word = change_char_in_position(word, \u001b[32m2\u001b[39m)\n\u001b[32m---> \u001b[39m\u001b[32m70\u001b[39m \u001b[38;5;28;01mif\u001b[39;00m is_new_plate \u001b[38;5;129;01mand\u001b[39;00m \u001b[43mword\u001b[49m\u001b[43m[\u001b[49m\u001b[32;43m4\u001b[39;49m\u001b[43m]\u001b[49m.isdigit():\n\u001b[32m     71\u001b[39m     word = change_char_in_position(word, \u001b[32m4\u001b[39m)\n\u001b[32m     73\u001b[39m \u001b[38;5;28;01mif\u001b[39;00m re.match(\u001b[33mr\u001b[39m\u001b[33m'\u001b[39m\u001b[33m^[A-Z]\u001b[39m\u001b[38;5;132;01m{3}\u001b[39;00m\u001b[33m\\\u001b[39m\u001b[33md\u001b[39m\u001b[38;5;132;01m{4}\u001b[39;00m\u001b[33m$\u001b[39m\u001b[33m'\u001b[39m, word) \u001b[38;5;129;01mor\u001b[39;00m re.match(\u001b[33mr\u001b[39m\u001b[33m'\u001b[39m\u001b[33m^[A-Z]\u001b[39m\u001b[38;5;132;01m{3}\u001b[39;00m\u001b[33m\\\u001b[39m\u001b[33md\u001b[39m\u001b[38;5;132;01m{1}\u001b[39;00m\u001b[33m[A-Z]\u001b[39m\u001b[33m\\\u001b[39m\u001b[33md\u001b[39m\u001b[38;5;132;01m{2}\u001b[39;00m\u001b[33m$\u001b[39m\u001b[33m'\u001b[39m, word):\n",
      "\u001b[31mIndexError\u001b[39m: string index out of range"
     ]
    }
   ],
   "source": [
    "plates = []\n",
    "for img in imgs:\n",
    "    print(f\"Processing image: {img}\")\n",
    "    plate = extract_plate_from_image(img)\n",
    "    print(f\"Plate detected: {plate}\")\n",
    "    if plate:\n",
    "        plates.append(plate)\n",
    "    print('-'*20)\n"
   ]
  },
  {
   "cell_type": "markdown",
   "metadata": {},
   "source": [
    "----"
   ]
  },
  {
   "cell_type": "code",
   "execution_count": null,
   "metadata": {},
   "outputs": [],
   "source": [
    "image_path = '../compvis-car/Brazil/files/domain1/7471000.jpg'\n",
    "imgs = classify_and_crop(image_path)"
   ]
  },
  {
   "cell_type": "code",
   "execution_count": null,
   "metadata": {},
   "outputs": [],
   "source": [
    "plates = []\n",
    "for img in imgs:\n",
    "    print(f\"Processing image: {img}\")\n",
    "    plate = extract_plate_from_image(img)\n",
    "    print(f\"Plate detected: {plate}\")\n",
    "    if plate:\n",
    "        plates.append(plate)\n",
    "    print('-'*20)\n"
   ]
  },
  {
   "cell_type": "code",
   "execution_count": null,
   "metadata": {},
   "outputs": [],
   "source": [
    "token = os.getenv('API_TOKEN', 'não-encontrado')\n",
    "token"
   ]
  },
  {
   "cell_type": "code",
   "execution_count": null,
   "metadata": {},
   "outputs": [],
   "source": [
    "api_url = 'https://wdapi2.com.br/consulta/{placa}/{token}'\n",
    "\n",
    "placa = plates[1]\n",
    "token = os.getenv('API_TOKEN', 'default_token_value')\n",
    "response = requests.get(api_url.format(placa=placa, token=token))\n",
    "if response.status_code == 200:\n",
    "    data = response.json()\n",
    "    print(f\"API Response: {data}\")"
   ]
  },
  {
   "cell_type": "code",
   "execution_count": null,
   "metadata": {},
   "outputs": [],
   "source": [
    "def get_infos(data):\n",
    "    info = {}\n",
    "    marca = data['marca']\n",
    "    modelo = data['modelo']\n",
    "    ano = data['ano']\n",
    "    cor = data['cor']\n",
    "\n",
    "    info = {\n",
    "        'marca': marca,\n",
    "        'modelo': modelo,\n",
    "        'ano': ano,\n",
    "        'cor': cor\n",
    "    }\n",
    "\n",
    "    extra = data['extra']\n",
    "\n",
    "    campos_interesse = ['municipio', 'nacionalidade', 'sub_segmento']\n",
    "    for chave in campos_interesse:\n",
    "        if chave in extra:\n",
    "            info[chave] = extra[chave]\n",
    "        else:\n",
    "            info[chave] = None\n",
    "            \n",
    "    fipe = data['fipe']['dados']\n",
    "    sum = 0\n",
    "    i = 0\n",
    "    for dados in fipe:\n",
    "        valor = dados['texto_valor']\n",
    "        valor = valor.replace(\"R$\", \"\")\n",
    "        valor = valor.replace(\".\", \"\")\n",
    "        valor = valor.replace(\",\", \".\")\n",
    "        valor = float(valor)\n",
    "        sum += valor\n",
    "        i += 1\n",
    "        \n",
    "    media = sum / i\n",
    "    info['fipe'] = media\n",
    "    \n",
    "    return info\n",
    "\n",
    "info = get_infos(data)\n",
    "print(info)\n",
    "            "
   ]
  }
 ],
 "metadata": {
  "kernelspec": {
   "display_name": ".venv",
   "language": "python",
   "name": "python3"
  },
  "language_info": {
   "codemirror_mode": {
    "name": "ipython",
    "version": 3
   },
   "file_extension": ".py",
   "mimetype": "text/x-python",
   "name": "python",
   "nbconvert_exporter": "python",
   "pygments_lexer": "ipython3",
   "version": "3.12.3"
  }
 },
 "nbformat": 4,
 "nbformat_minor": 2
}
