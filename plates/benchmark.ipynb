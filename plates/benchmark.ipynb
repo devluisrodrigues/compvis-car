{
 "cells": [
  {
   "cell_type": "markdown",
   "id": "40137a97",
   "metadata": {},
   "source": [
    "## Benchmark do OCR"
   ]
  },
  {
   "cell_type": "code",
   "execution_count": null,
   "id": "21610e45",
   "metadata": {},
   "outputs": [],
   "source": [
    "import os\n",
    "from ultralytics import YOLO\n",
    "from paddleocr import PaddleOCR\n",
    "import cv2\n",
    "import numpy as np\n",
    "import pandas as pd\n",
    "import re\n",
    "import matplotlib.pyplot as plt\n",
    "import sys"
   ]
  },
  {
   "cell_type": "markdown",
   "id": "9ad18b54",
   "metadata": {},
   "source": [
    "----\n",
    "\n",
    "## Funções principais de OCR para análise das imagens"
   ]
  },
  {
   "cell_type": "code",
   "execution_count": null,
   "id": "be9009ad",
   "metadata": {},
   "outputs": [],
   "source": [
    "import cv2\n",
    "import numpy as np\n",
    "from paddleocr import PaddleOCR\n",
    "import re\n",
    "\n",
    "ocr = PaddleOCR(\n",
    "        use_angle_cls=True, \n",
    "        lang='en', \n",
    "        show_log=False,\n",
    "        det_db_thresh=0.3,\n",
    "        det_db_box_thresh=0.5\n",
    "    )\n",
    "\n",
    "def change_char_in_position(word, position):\n",
    "    if position < len(word):\n",
    "        if word[position].isdigit():\n",
    "            digit = word[position]\n",
    "            if digit == '8':\n",
    "                word = word[:position] + 'B' + word[position+1:]\n",
    "            elif digit == '1':\n",
    "                word = word[:position] + 'I' + word[position+1:]\n",
    "            elif digit == '0':\n",
    "                word = word[:position] + 'O' + word[position+1:]\n",
    "            elif digit == '5':\n",
    "                word = word[:position] + 'S' + word[position+1:]\n",
    "    return word\n",
    "\n",
    "def detect_blue_strip(image_path):\n",
    "    image = cv2.imread(image_path)\n",
    "    if image is None:\n",
    "        return False\n",
    "    \n",
    "    height, width = image.shape[:2]\n",
    "    top_strip = image[0:int(height * 0.25), 0:width]  # faixa de cima\n",
    "\n",
    "    hsv = cv2.cvtColor(top_strip, cv2.COLOR_BGR2HSV)\n",
    "\n",
    "    # Faixa de azul (com tolerância maior para placas borradas)\n",
    "    lower_blue = np.array([110, 160, 65])\n",
    "    upper_blue = np.array([130, 255, 255])\n",
    "    mask = cv2.inRange(hsv, lower_blue, upper_blue)\n",
    "\n",
    "    blue_ratio = cv2.countNonZero(mask) / (top_strip.shape[0] * top_strip.shape[1])\n",
    "    return blue_ratio > 0.03\n",
    "\n",
    "def limpar_placa(texto):\n",
    "    \"\"\"Remove qualquer caractere que não seja letra ou número.\"\"\"\n",
    "    return re.sub(r'[^A-Z0-9]', '', texto.upper())\n",
    "\n",
    "def correct_plate(word, is_new_plate):\n",
    "    word = word.replace(\"-\", \"\").replace(\".\", \"\").replace(\" \", \"\")\n",
    "    word = limpar_placa(word)\n",
    "\n",
    "    if len(word) < 7:\n",
    "        return None\n",
    "\n",
    "    for pos in [0, 1, 2]:\n",
    "        if word[pos].isdigit():\n",
    "            word = change_char_in_position(word, pos)\n",
    "    \n",
    "    if is_new_plate and len(word) > 4 and word[4].isdigit():\n",
    "        word = change_char_in_position(word, 4)\n",
    "\n",
    "    # Verifica os dois formatos válidos\n",
    "    if re.match(r'^[A-Z]{3}\\d{4}$', word) or re.match(r'^[A-Z]{3}\\d[A-Z]\\d{2}$', word):\n",
    "        return word\n",
    "\n",
    "    return None\n",
    "\n",
    "\n",
    "def extract_plate_from_image(image_path):\n",
    "    # Preprocess the image\n",
    "    is_new_plate = detect_blue_strip(image_path)\n",
    "    result = ocr.ocr(image_path, cls=True)\n",
    "        \n",
    "    if not result or result[0] is None:\n",
    "        print(\"Nenhum resultado encontrado.\")\n",
    "        return None\n",
    "    \n",
    "    detected_words = []\n",
    "    for line in result:\n",
    "        for word_info in line:\n",
    "            text = word_info[1][0].replace(\" \", \"\")\n",
    "            text = limpar_placa(text)\n",
    "            if text.lower() == \"brasil\":\n",
    "                is_new_plate = True\n",
    "            else:\n",
    "                detected_words.append((text, word_info[1][1]))  # (text, confidence)\n",
    "                    \n",
    "    # print(f\"Palavras detectadas: {detected_words}\")\n",
    "    # print(f\"É nova placa? {is_new_plate}\")    \n",
    "    \n",
    "    # Tenta cada palavra isolada\n",
    "    for word_tuple in detected_words:\n",
    "        corrected = correct_plate(word_tuple[0], is_new_plate)\n",
    "        if corrected:\n",
    "            return corrected\n",
    "\n",
    "    # Tenta pares de palavras combinadas\n",
    "    for i in range(len(detected_words)):\n",
    "        for j in range(i+1, len(detected_words)):\n",
    "            combined = detected_words[i][0] + detected_words[j][0]\n",
    "            print(f\"Combinando: {combined}\")\n",
    "            corrected = correct_plate(combined, is_new_plate)\n",
    "            if corrected:\n",
    "                return corrected    \n",
    "\n",
    "    return None\n"
   ]
  },
  {
   "cell_type": "markdown",
   "id": "aff1aac2",
   "metadata": {},
   "source": [
    "----\n",
    "\n",
    "## Perfomance do OCR"
   ]
  },
  {
   "cell_type": "code",
   "execution_count": null,
   "id": "a120d6fe",
   "metadata": {},
   "outputs": [],
   "source": [
    "df = pd.read_csv('./plates.csv')\n",
    "df.head()"
   ]
  },
  {
   "cell_type": "code",
   "execution_count": null,
   "id": "b7607d65",
   "metadata": {},
   "outputs": [],
   "source": [
    "df.tail()"
   ]
  },
  {
   "cell_type": "code",
   "execution_count": null,
   "id": "b6b80235",
   "metadata": {},
   "outputs": [],
   "source": [
    "acertou = 0\n",
    "errou = 0\n",
    "\n",
    "ids = df.shape[0]\n",
    "print(f\"Total de placas: {ids}\")\n",
    "for id_analisado in range(ids):\n",
    "    img_path = f'plate_imgs/plate_{id_analisado}.jpg'\n",
    "    placa_lida = extract_plate_from_image(img_path)\n",
    "    gabarito = df[df['filename'] == img_path]['plate'].values[0]\n",
    "    if placa_lida != gabarito:\n",
    "        print(f\"Placa lida: {placa_lida} - Gabarito: {gabarito} img: {img_path}\")\n",
    "        errou += 1\n",
    "    else:\n",
    "        acertou += 1"
   ]
  },
  {
   "cell_type": "code",
   "execution_count": null,
   "id": "0ab190b1",
   "metadata": {},
   "outputs": [],
   "source": [
    "print(f\"Placas lidas corretamente: {acertou} de {ids}\")\n",
    "print(f\"Taxa de acerto: {acertou/ids*100:.2f}%\")"
   ]
  }
 ],
 "metadata": {
  "kernelspec": {
   "display_name": "env",
   "language": "python",
   "name": "python3"
  },
  "language_info": {
   "codemirror_mode": {
    "name": "ipython",
    "version": 3
   },
   "file_extension": ".py",
   "mimetype": "text/x-python",
   "name": "python",
   "nbconvert_exporter": "python",
   "pygments_lexer": "ipython3",
   "version": "3.10.12"
  }
 },
 "nbformat": 4,
 "nbformat_minor": 5
}
