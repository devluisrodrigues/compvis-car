{
 "cells": [
  {
   "cell_type": "markdown",
   "id": "d62fe319",
   "metadata": {},
   "source": [
    "### Criando um dataset para benchmark do OCR"
   ]
  },
  {
   "cell_type": "markdown",
   "id": "b8da568f",
   "metadata": {},
   "source": [
    "Esse jupyter tem como objetivo percorrer as imagens presentes no diretório 'imgs\", dividir separar as placas de carros, as quais terão seus textos extraídos.\n",
    "Em seguida, será possível comparar os resultados obtidos com o OCR escolhido"
   ]
  },
  {
   "cell_type": "code",
   "execution_count": 3,
   "id": "b116419e",
   "metadata": {},
   "outputs": [
    {
     "name": "stderr",
     "output_type": "stream",
     "text": [
      "/home/louis/Documents/7/compvis/compvis-car/.venv/lib/python3.10/site-packages/paddle/utils/cpp_extension/extension_utils.py:711: UserWarning: No ccache found. Please be aware that recompiling all source files may be required. You can download and install ccache from: https://github.com/ccache/ccache/blob/master/doc/INSTALL.md\n",
      "  warnings.warn(warning_message)\n"
     ]
    }
   ],
   "source": [
    "import os\n",
    "from ultralytics import YOLO\n",
    "from paddleocr import PaddleOCR\n",
    "import cv2\n",
    "import numpy as np\n",
    "import pandas as pd\n",
    "import re"
   ]
  },
  {
   "cell_type": "markdown",
   "id": "bd90c61e",
   "metadata": {},
   "source": [
    "---\n",
    "\n",
    "### Funções auxiliares:"
   ]
  },
  {
   "cell_type": "markdown",
   "id": "95ac3e09",
   "metadata": {},
   "source": [
    "Função para separar a placa das imagens"
   ]
  },
  {
   "cell_type": "code",
   "execution_count": null,
   "id": "f05954fe",
   "metadata": {},
   "outputs": [],
   "source": [
    "def calculate_next_id():\n",
    "    # Load the existing IDs from the text file\n",
    "    plates = os.listdir('plate_imgs')\n",
    "    max_id = 0\n",
    "    for plate in plates:\n",
    "        # Extract the numeric part of the filename\n",
    "        try:\n",
    "            plate_id = int(plate.split('_')[1].split('.')[0])\n",
    "            if plate_id > max_id:\n",
    "                max_id = plate_id\n",
    "        except ValueError:\n",
    "            continue\n",
    "    \n",
    "    return max_id + 1 if max_id > 0 else 0\n",
    "\n",
    "def classify_and_crop(image_path):\n",
    "    # Load model\n",
    "    model = YOLO('../last.pt')\n",
    "    \n",
    "    # Run inference\n",
    "    results = model(image_path)\n",
    "    \n",
    "    # Read the original image\n",
    "    original_image = cv2.imread(image_path)\n",
    "    imgnames = []\n",
    "\n",
    "\n",
    "    # Iterate over results\n",
    "    for i, result in enumerate(results):\n",
    "        boxes = result.boxes.xyxy.cpu().numpy()  # Get bounding boxes in (x1, y1, x2, y2) format\n",
    "\n",
    "        for j, (x1, y1, x2, y2) in enumerate(boxes):\n",
    "            # Convert coordinates to integers\n",
    "            x1, y1, x2, y2 = map(int, [x1, y1, x2, y2])\n",
    "\n",
    "            # Crop the image\n",
    "            cropped = original_image[y1:y2, x1:x2]\n",
    "\n",
    "            # Save the cropped image\n",
    "            id = calculate_next_id()\n",
    "            output_filename = f'plate_imgs/plate_{id}.jpg'\n",
    "            imgnames.append(output_filename)\n",
    "            cv2.imwrite(output_filename, cropped)\n",
    "    return imgnames            "
   ]
  },
  {
   "cell_type": "markdown",
   "id": "89e56f36",
   "metadata": {},
   "source": [
    "Função para extrair o texto das placas"
   ]
  },
  {
   "cell_type": "code",
   "execution_count": null,
   "id": "06c0d636",
   "metadata": {},
   "outputs": [],
   "source": [
    "def change_char_in_position(word, position):\n",
    "    if position < len(word):\n",
    "        if word[position].isdigit():\n",
    "            digit = word[position]\n",
    "            if digit == '8':\n",
    "                word = word[:position] + 'B' + word[position+1:]\n",
    "            elif digit == '1':\n",
    "                word = word[:position] + 'I' + word[position+1:]\n",
    "    return word\n",
    "\n",
    "def detect_blue_strip(image_path):\n",
    "    image = cv2.imread(image_path)\n",
    "    if image is None:\n",
    "        return False\n",
    "\n",
    "    height, width = image.shape[:2]\n",
    "    top_strip = image[0:int(height * 0.15), 0:width]  # faixa de cima\n",
    "\n",
    "    hsv = cv2.cvtColor(top_strip, cv2.COLOR_BGR2HSV)\n",
    "\n",
    "    # Faixa de azul (com tolerância maior para placas borradas)\n",
    "    lower_blue = np.array([90, 40, 40])\n",
    "    upper_blue = np.array([140, 255, 255])\n",
    "    mask = cv2.inRange(hsv, lower_blue, upper_blue)\n",
    "\n",
    "    blue_ratio = cv2.countNonZero(mask) / (top_strip.shape[0] * top_strip.shape[1])\n",
    "    return blue_ratio > 0.03\n",
    "\n",
    "\n",
    "def correct_plate(word, is_new_plate):\n",
    "    word = word.replace(\"-\", \"\")\n",
    "    if len(word) < 7:\n",
    "        return None\n",
    "\n",
    "    for pos in [0, 1, 2]:\n",
    "        if word[pos].isdigit():\n",
    "            word = change_char_in_position(word, pos)\n",
    "    \n",
    "    if is_new_plate and len(word) > 4 and word[4].isdigit():\n",
    "        word = change_char_in_position(word, 4)\n",
    "\n",
    "    # Verifica os dois formatos válidos\n",
    "    if re.match(r'^[A-Z]{3}\\d{4}$', word) or re.match(r'^[A-Z]{3}\\d[A-Z]\\d{2}$', word):\n",
    "        return word\n",
    "    return None\n",
    "\n",
    "ocr = PaddleOCR(use_angle_cls=True, lang='en', show_log=False)\n",
    "\n",
    "def extract_plate_from_image(image_path):\n",
    "    is_new_plate = detect_blue_strip(image_path)\n",
    "    result = ocr.ocr(image_path, cls=True)\n",
    "    \n",
    "    if not result or result[0] is None:\n",
    "        print(\"No text detected.\")\n",
    "        return None    \n",
    "    \n",
    "    detected_words = []\n",
    "    for line in result:\n",
    "        for word_info in line:\n",
    "            text = word_info[1][0].replace(\" \", \"\")\n",
    "            if text.lower() == \"brasil\":\n",
    "                is_new_plate = True\n",
    "            else:\n",
    "                detected_words.append((text, word_info[1][1]))  # (text, confidence)\n",
    "    \n",
    "    print(f\"Palavras detectadas: {detected_words}\")\n",
    "    print(f\"É nova placa? {is_new_plate}\")    \n",
    "    \n",
    "    # Tenta cada palavra isolada\n",
    "    for word_tuple in detected_words:\n",
    "        corrected = correct_plate(word_tuple[0], is_new_plate)\n",
    "        if corrected:\n",
    "            return corrected\n",
    "\n",
    "    # Tenta pares de palavras combinadas\n",
    "    for i in range(len(detected_words)):\n",
    "        for j in range(i+1, len(detected_words)):\n",
    "            combined = detected_words[i][0] + detected_words[j][0]\n",
    "            corrected = correct_plate(combined, is_new_plate)\n",
    "            if corrected:\n",
    "                return corrected\n",
    "\n",
    "    return None\n"
   ]
  },
  {
   "cell_type": "markdown",
   "id": "1b328dec",
   "metadata": {},
   "source": [
    "----"
   ]
  },
  {
   "cell_type": "markdown",
   "id": "5301ddd6",
   "metadata": {},
   "source": [
    "### Inicio:\n",
    "\n",
    "Percorrendo as imagens:"
   ]
  },
  {
   "cell_type": "code",
   "execution_count": null,
   "id": "91f91e2b",
   "metadata": {},
   "outputs": [],
   "source": [
    "# Cria o diretorio plate_imgs\n",
    "if not os.path.exists('plate_imgs'):\n",
    "    os.makedirs('plate_imgs')"
   ]
  },
  {
   "cell_type": "code",
   "execution_count": null,
   "id": "ae85ed29",
   "metadata": {},
   "outputs": [],
   "source": [
    "# Carrega as imagens\n",
    "imgs = os.listdir('../new_imgs')\n",
    "print(imgs)\n",
    "\n",
    "for img in imgs:\n",
    "    # Classifica e recorta a imagem\n",
    "    image_path = os.path.join('../new_imgs', img)\n",
    "    imgnames = classify_and_crop(image_path)"
   ]
  },
  {
   "cell_type": "code",
   "execution_count": 23,
   "id": "11990723",
   "metadata": {},
   "outputs": [],
   "source": [
    "# Percorre plates/plates_imgs, caso tenha uma placa fora de ordem, renomeia\n",
    "id = 0\n",
    "for plate in os.listdir('plate_imgs'):\n",
    "    # Renomeia a imagem\n",
    "    new_name = f'plate_imgs/plate_{id}.jpg'\n",
    "    os.rename(f'plate_imgs/{plate}', new_name)\n",
    "    id += 1"
   ]
  },
  {
   "cell_type": "code",
   "execution_count": 31,
   "id": "2b7b95b8",
   "metadata": {},
   "outputs": [],
   "source": [
    "placas_text = [\n",
    "    'PYP5727',\n",
    "    'QUP8066',\n",
    "    'ELS7575',\n",
    "    'EJA9040',\n",
    "    'ELS7575',\n",
    "    'EHJ9C82',\n",
    "    'LUO1J10',\n",
    "    'KWE8269',\n",
    "    'KRF8219',\n",
    "    'KWE8269',\n",
    "    'QQF5108',\n",
    "    'LMT6I14',\n",
    "    'PWY3G12',\n",
    "    'QQA5348',\n",
    "    'LTF6B00',\n",
    "    'LMI7G15',\n",
    "    'GIU0480',\n",
    "    'EZE8592',\n",
    "    'RNC4H56',\n",
    "    'STT1A06',\n",
    "    'SIB2A26',\n",
    "    'CON1454',\n",
    "    'ELP1978',\n",
    "    'GGW4I41',\n",
    "    'EHI0H58',\n",
    "    'GCZ7D94',\n",
    "    'GDY4G44',\n",
    "    'SWI3B77',\n",
    "    'GCZ7D94',\n",
    "    'FHP9G04',\n",
    "    'CGN9J94',\n",
    "    'GCZ7D94',\n",
    "    'FHP9G04',\n",
    "    'SUW1C12',\n",
    "    'FWR5B86',\n",
    "    'FHP9G04',\n",
    "    'EXX7619',\n",
    "    'DSV7C13',\n",
    "    'DSV7C13',\n",
    "    'SSZ5I11',\n",
    "    'FNC1F27',\n",
    "    'CUH4G26',\n",
    "    'FHP9G04',\n",
    "    'FHP9G04',\n",
    "    'FWR5B86',\n",
    "    'SWI3B77',\n",
    "    'CUY1B80',\n",
    "    'DES5518',\n",
    "    'GKC4H60',\n",
    "    'GAR4G31',\n",
    "    'GHV7564',\n",
    "    'GKC4H60',\n",
    "    'FMJ6399',\n",
    "    'ALF8F22',\n",
    "    'FRY2I96',\n",
    "    'GKC4H60',\n",
    "    'BSX6F35',\n",
    "    'GKC4H60',\n",
    "    'DES5518',\n",
    "    'GKC4H60',\n",
    "    'GDY4G44',\n",
    "    'STK3G35',\n",
    "    'GCI4125'\n",
    "]"
   ]
  },
  {
   "cell_type": "code",
   "execution_count": 30,
   "id": "05448cdc",
   "metadata": {},
   "outputs": [],
   "source": [
    "df = pd.DataFrame(columns=['filename', 'plate'])\n",
    "\n",
    "id = 0\n",
    "for placa_text in placas_text:\n",
    "    df.loc[id] = [f'plate_imgs/plate_{id}.jpg', placa_text]\n",
    "id += 1\n",
    "\n",
    "df.to_csv('./plates.csv', index=False)"
   ]
  }
 ],
 "metadata": {
  "kernelspec": {
   "display_name": ".venv",
   "language": "python",
   "name": "python3"
  },
  "language_info": {
   "codemirror_mode": {
    "name": "ipython",
    "version": 3
   },
   "file_extension": ".py",
   "mimetype": "text/x-python",
   "name": "python",
   "nbconvert_exporter": "python",
   "pygments_lexer": "ipython3",
   "version": "3.10.12"
  }
 },
 "nbformat": 4,
 "nbformat_minor": 5
}
